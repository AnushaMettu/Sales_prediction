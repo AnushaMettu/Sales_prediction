{
 "cells": [
  {
   "cell_type": "markdown",
   "metadata": {},
   "source": [
    "# Step:1 Importing the required Libraries"
   ]
  },
  {
   "cell_type": "markdown",
   "metadata": {},
   "source": [
    "These four packages are fundamental libraries that we will need to import on every occasion."
   ]
  },
  {
   "cell_type": "markdown",
   "metadata": {},
   "source": [
    "NumPy is a versatile package designed for processing arrays of data. It offers a high-speed, multi-dimensional array structure, along with a range of tools for effectively manipulating these arrays. As such, it serves as the cornerstone of scientific computing with Python."
   ]
  },
  {
   "cell_type": "code",
   "execution_count": 1,
   "metadata": {},
   "outputs": [],
   "source": [
    "import numpy as np"
   ]
  },
  {
   "cell_type": "markdown",
   "metadata": {},
   "source": [
    "This Python package provides an array of data structures and functionalities for handling numerical data and time series with ease. Its strength lies in simplifying the import and analysis of data, making it a widely favored tool for data manipulation."
   ]
  },
  {
   "cell_type": "code",
   "execution_count": 2,
   "metadata": {},
   "outputs": [],
   "source": [
    "import pandas as pd "
   ]
  },
  {
   "cell_type": "markdown",
   "metadata": {},
   "source": [
    "Matplotlib is a remarkable Python library that enables the creation of 2D plots for arrays, making it a powerful tool for data visualization. This multi-platform library is constructed on NumPy arrays and integrated with the broader SciPy stack. It was first introduced by John Hunter in 2002, and offers a range of plots including line, bar, scatter, histogram, and more"
   ]
  },
  {
   "cell_type": "code",
   "execution_count": 3,
   "metadata": {},
   "outputs": [],
   "source": [
    "import matplotlib.pyplot as plt"
   ]
  },
  {
   "cell_type": "markdown",
   "metadata": {},
   "source": [
    "Seaborn is a Python data visualization library that builds on the foundation of Matplotlib. It offers an intuitive and sophisticated interface for producing visually appealing and informative statistical graphics."
   ]
  },
  {
   "cell_type": "code",
   "execution_count": 4,
   "metadata": {},
   "outputs": [],
   "source": [
    "import seaborn as sns"
   ]
  },
  {
   "cell_type": "markdown",
   "metadata": {},
   "source": [
    "The terminal will not display any warning messages. You can choose to disregard any warning messages that may appear."
   ]
  },
  {
   "cell_type": "code",
   "execution_count": 5,
   "metadata": {},
   "outputs": [],
   "source": [
    "import warnings\n",
    "warnings.filterwarnings('ignore')"
   ]
  },
  {
   "cell_type": "markdown",
   "metadata": {},
   "source": [
    "# Step:2 Importing the Dataset"
   ]
  },
  {
   "cell_type": "markdown",
   "metadata": {},
   "source": [
    "\n",
    "Datasets are typically provided in the CSV format, which stores tabular data as plain text. Each line in the file represents a record of data. To read a local CSV file into a DataFrame, we utilize the read_csv method from the pandas library. From there, we create separate matrices and vectors for independent and dependent variables, respectively, based on the DataFrame."
   ]
  },
  {
   "cell_type": "code",
   "execution_count": 6,
   "metadata": {},
   "outputs": [],
   "source": [
    "# Importing dataset\n",
    "dataset = pd.read_csv(r'Dataset/DataCoSupplyChainDataset.csv',encoding='latin-1')"
   ]
  },
  {
   "cell_type": "code",
   "execution_count": 7,
   "metadata": {},
   "outputs": [
    {
     "data": {
      "text/html": [
       "<div>\n",
       "<style scoped>\n",
       "    .dataframe tbody tr th:only-of-type {\n",
       "        vertical-align: middle;\n",
       "    }\n",
       "\n",
       "    .dataframe tbody tr th {\n",
       "        vertical-align: top;\n",
       "    }\n",
       "\n",
       "    .dataframe thead th {\n",
       "        text-align: right;\n",
       "    }\n",
       "</style>\n",
       "<table border=\"1\" class=\"dataframe\">\n",
       "  <thead>\n",
       "    <tr style=\"text-align: right;\">\n",
       "      <th></th>\n",
       "      <th>Type</th>\n",
       "      <th>Days for shipping (real)</th>\n",
       "      <th>Days for shipment (scheduled)</th>\n",
       "      <th>Benefit per order</th>\n",
       "      <th>Sales per customer</th>\n",
       "      <th>Delivery Status</th>\n",
       "      <th>Late_delivery_risk</th>\n",
       "      <th>Category Id</th>\n",
       "      <th>Category Name</th>\n",
       "      <th>Customer City</th>\n",
       "      <th>...</th>\n",
       "      <th>Order Zipcode</th>\n",
       "      <th>Product Card Id</th>\n",
       "      <th>Product Category Id</th>\n",
       "      <th>Product Description</th>\n",
       "      <th>Product Image</th>\n",
       "      <th>Product Name</th>\n",
       "      <th>Product Price</th>\n",
       "      <th>Product Status</th>\n",
       "      <th>shipping date (DateOrders)</th>\n",
       "      <th>Shipping Mode</th>\n",
       "    </tr>\n",
       "  </thead>\n",
       "  <tbody>\n",
       "    <tr>\n",
       "      <th>0</th>\n",
       "      <td>DEBIT</td>\n",
       "      <td>3</td>\n",
       "      <td>4</td>\n",
       "      <td>91.250000</td>\n",
       "      <td>314.640015</td>\n",
       "      <td>Advance shipping</td>\n",
       "      <td>0</td>\n",
       "      <td>73</td>\n",
       "      <td>Sporting Goods</td>\n",
       "      <td>Caguas</td>\n",
       "      <td>...</td>\n",
       "      <td>NaN</td>\n",
       "      <td>1360</td>\n",
       "      <td>73</td>\n",
       "      <td>NaN</td>\n",
       "      <td>http://images.acmesports.sports/Smart+watch</td>\n",
       "      <td>Smart watch</td>\n",
       "      <td>327.75</td>\n",
       "      <td>0</td>\n",
       "      <td>2/3/2018 22:56</td>\n",
       "      <td>Standard Class</td>\n",
       "    </tr>\n",
       "    <tr>\n",
       "      <th>1</th>\n",
       "      <td>TRANSFER</td>\n",
       "      <td>5</td>\n",
       "      <td>4</td>\n",
       "      <td>-249.089996</td>\n",
       "      <td>311.359985</td>\n",
       "      <td>Late delivery</td>\n",
       "      <td>1</td>\n",
       "      <td>73</td>\n",
       "      <td>Sporting Goods</td>\n",
       "      <td>Caguas</td>\n",
       "      <td>...</td>\n",
       "      <td>NaN</td>\n",
       "      <td>1360</td>\n",
       "      <td>73</td>\n",
       "      <td>NaN</td>\n",
       "      <td>http://images.acmesports.sports/Smart+watch</td>\n",
       "      <td>Smart watch</td>\n",
       "      <td>327.75</td>\n",
       "      <td>0</td>\n",
       "      <td>1/18/2018 12:27</td>\n",
       "      <td>Standard Class</td>\n",
       "    </tr>\n",
       "    <tr>\n",
       "      <th>2</th>\n",
       "      <td>CASH</td>\n",
       "      <td>4</td>\n",
       "      <td>4</td>\n",
       "      <td>-247.779999</td>\n",
       "      <td>309.720001</td>\n",
       "      <td>Shipping on time</td>\n",
       "      <td>0</td>\n",
       "      <td>73</td>\n",
       "      <td>Sporting Goods</td>\n",
       "      <td>San Jose</td>\n",
       "      <td>...</td>\n",
       "      <td>NaN</td>\n",
       "      <td>1360</td>\n",
       "      <td>73</td>\n",
       "      <td>NaN</td>\n",
       "      <td>http://images.acmesports.sports/Smart+watch</td>\n",
       "      <td>Smart watch</td>\n",
       "      <td>327.75</td>\n",
       "      <td>0</td>\n",
       "      <td>1/17/2018 12:06</td>\n",
       "      <td>Standard Class</td>\n",
       "    </tr>\n",
       "    <tr>\n",
       "      <th>3</th>\n",
       "      <td>DEBIT</td>\n",
       "      <td>3</td>\n",
       "      <td>4</td>\n",
       "      <td>22.860001</td>\n",
       "      <td>304.809998</td>\n",
       "      <td>Advance shipping</td>\n",
       "      <td>0</td>\n",
       "      <td>73</td>\n",
       "      <td>Sporting Goods</td>\n",
       "      <td>Los Angeles</td>\n",
       "      <td>...</td>\n",
       "      <td>NaN</td>\n",
       "      <td>1360</td>\n",
       "      <td>73</td>\n",
       "      <td>NaN</td>\n",
       "      <td>http://images.acmesports.sports/Smart+watch</td>\n",
       "      <td>Smart watch</td>\n",
       "      <td>327.75</td>\n",
       "      <td>0</td>\n",
       "      <td>1/16/2018 11:45</td>\n",
       "      <td>Standard Class</td>\n",
       "    </tr>\n",
       "    <tr>\n",
       "      <th>4</th>\n",
       "      <td>PAYMENT</td>\n",
       "      <td>2</td>\n",
       "      <td>4</td>\n",
       "      <td>134.210007</td>\n",
       "      <td>298.250000</td>\n",
       "      <td>Advance shipping</td>\n",
       "      <td>0</td>\n",
       "      <td>73</td>\n",
       "      <td>Sporting Goods</td>\n",
       "      <td>Caguas</td>\n",
       "      <td>...</td>\n",
       "      <td>NaN</td>\n",
       "      <td>1360</td>\n",
       "      <td>73</td>\n",
       "      <td>NaN</td>\n",
       "      <td>http://images.acmesports.sports/Smart+watch</td>\n",
       "      <td>Smart watch</td>\n",
       "      <td>327.75</td>\n",
       "      <td>0</td>\n",
       "      <td>1/15/2018 11:24</td>\n",
       "      <td>Standard Class</td>\n",
       "    </tr>\n",
       "  </tbody>\n",
       "</table>\n",
       "<p>5 rows × 53 columns</p>\n",
       "</div>"
      ],
      "text/plain": [
       "       Type  Days for shipping (real)  Days for shipment (scheduled)  \\\n",
       "0     DEBIT                         3                              4   \n",
       "1  TRANSFER                         5                              4   \n",
       "2      CASH                         4                              4   \n",
       "3     DEBIT                         3                              4   \n",
       "4   PAYMENT                         2                              4   \n",
       "\n",
       "   Benefit per order  Sales per customer   Delivery Status  \\\n",
       "0          91.250000          314.640015  Advance shipping   \n",
       "1        -249.089996          311.359985     Late delivery   \n",
       "2        -247.779999          309.720001  Shipping on time   \n",
       "3          22.860001          304.809998  Advance shipping   \n",
       "4         134.210007          298.250000  Advance shipping   \n",
       "\n",
       "   Late_delivery_risk  Category Id   Category Name Customer City  ...  \\\n",
       "0                   0           73  Sporting Goods        Caguas  ...   \n",
       "1                   1           73  Sporting Goods        Caguas  ...   \n",
       "2                   0           73  Sporting Goods      San Jose  ...   \n",
       "3                   0           73  Sporting Goods   Los Angeles  ...   \n",
       "4                   0           73  Sporting Goods        Caguas  ...   \n",
       "\n",
       "  Order Zipcode Product Card Id Product Category Id  Product Description  \\\n",
       "0           NaN            1360                  73                  NaN   \n",
       "1           NaN            1360                  73                  NaN   \n",
       "2           NaN            1360                  73                  NaN   \n",
       "3           NaN            1360                  73                  NaN   \n",
       "4           NaN            1360                  73                  NaN   \n",
       "\n",
       "                                  Product Image  Product Name Product Price  \\\n",
       "0  http://images.acmesports.sports/Smart+watch   Smart watch         327.75   \n",
       "1  http://images.acmesports.sports/Smart+watch   Smart watch         327.75   \n",
       "2  http://images.acmesports.sports/Smart+watch   Smart watch         327.75   \n",
       "3  http://images.acmesports.sports/Smart+watch   Smart watch         327.75   \n",
       "4  http://images.acmesports.sports/Smart+watch   Smart watch         327.75   \n",
       "\n",
       "  Product Status shipping date (DateOrders)   Shipping Mode  \n",
       "0              0             2/3/2018 22:56  Standard Class  \n",
       "1              0            1/18/2018 12:27  Standard Class  \n",
       "2              0            1/17/2018 12:06  Standard Class  \n",
       "3              0            1/16/2018 11:45  Standard Class  \n",
       "4              0            1/15/2018 11:24  Standard Class  \n",
       "\n",
       "[5 rows x 53 columns]"
      ]
     },
     "execution_count": 7,
     "metadata": {},
     "output_type": "execute_result"
    }
   ],
   "source": [
    "# Preview data\n",
    "dataset.head()\n",
    "#dataset.tail(5)\n",
    "#dataset.sample(5)"
   ]
  },
  {
   "cell_type": "code",
   "execution_count": 8,
   "metadata": {},
   "outputs": [
    {
     "data": {
      "text/plain": [
       "pandas.core.frame.DataFrame"
      ]
     },
     "execution_count": 8,
     "metadata": {},
     "output_type": "execute_result"
    }
   ],
   "source": [
    "#Verifying it as a 'dataframe' object in pandas\n",
    "type(dataset)"
   ]
  },
  {
   "cell_type": "code",
   "execution_count": 9,
   "metadata": {},
   "outputs": [
    {
     "data": {
      "text/plain": [
       "(180519, 53)"
      ]
     },
     "execution_count": 9,
     "metadata": {},
     "output_type": "execute_result"
    }
   ],
   "source": [
    "# Dataset dimensions - (rows, columns)\n",
    "dataset.shape"
   ]
  },
  {
   "cell_type": "code",
   "execution_count": 10,
   "metadata": {},
   "outputs": [
    {
     "name": "stdout",
     "output_type": "stream",
     "text": [
      "<class 'pandas.core.frame.DataFrame'>\n",
      "RangeIndex: 180519 entries, 0 to 180518\n",
      "Data columns (total 53 columns):\n",
      " #   Column                         Non-Null Count   Dtype  \n",
      "---  ------                         --------------   -----  \n",
      " 0   Type                           180519 non-null  object \n",
      " 1   Days for shipping (real)       180519 non-null  int64  \n",
      " 2   Days for shipment (scheduled)  180519 non-null  int64  \n",
      " 3   Benefit per order              180519 non-null  float64\n",
      " 4   Sales per customer             180519 non-null  float64\n",
      " 5   Delivery Status                180519 non-null  object \n",
      " 6   Late_delivery_risk             180519 non-null  int64  \n",
      " 7   Category Id                    180519 non-null  int64  \n",
      " 8   Category Name                  180519 non-null  object \n",
      " 9   Customer City                  180519 non-null  object \n",
      " 10  Customer Country               180519 non-null  object \n",
      " 11  Customer Email                 180519 non-null  object \n",
      " 12  Customer Fname                 180519 non-null  object \n",
      " 13  Customer Id                    180519 non-null  int64  \n",
      " 14  Customer Lname                 180511 non-null  object \n",
      " 15  Customer Password              180519 non-null  object \n",
      " 16  Customer Segment               180519 non-null  object \n",
      " 17  Customer State                 180519 non-null  object \n",
      " 18  Customer Street                180519 non-null  object \n",
      " 19  Customer Zipcode               180516 non-null  float64\n",
      " 20  Department Id                  180519 non-null  int64  \n",
      " 21  Department Name                180519 non-null  object \n",
      " 22  Latitude                       180519 non-null  float64\n",
      " 23  Longitude                      180519 non-null  float64\n",
      " 24  Market                         180519 non-null  object \n",
      " 25  Order City                     180519 non-null  object \n",
      " 26  Order Country                  180519 non-null  object \n",
      " 27  Order Customer Id              180519 non-null  int64  \n",
      " 28  order date (DateOrders)        180519 non-null  object \n",
      " 29  Order Id                       180519 non-null  int64  \n",
      " 30  Order Item Cardprod Id         180519 non-null  int64  \n",
      " 31  Order Item Discount            180519 non-null  float64\n",
      " 32  Order Item Discount Rate       180519 non-null  float64\n",
      " 33  Order Item Id                  180519 non-null  int64  \n",
      " 34  Order Item Product Price       180519 non-null  float64\n",
      " 35  Order Item Profit Ratio        180519 non-null  float64\n",
      " 36  Order Item Quantity            180519 non-null  int64  \n",
      " 37  Sales                          180519 non-null  float64\n",
      " 38  Order Item Total               180519 non-null  float64\n",
      " 39  Order Profit Per Order         180519 non-null  float64\n",
      " 40  Order Region                   180519 non-null  object \n",
      " 41  Order State                    180519 non-null  object \n",
      " 42  Order Status                   180519 non-null  object \n",
      " 43  Order Zipcode                  24840 non-null   float64\n",
      " 44  Product Card Id                180519 non-null  int64  \n",
      " 45  Product Category Id            180519 non-null  int64  \n",
      " 46  Product Description            0 non-null       float64\n",
      " 47  Product Image                  180519 non-null  object \n",
      " 48  Product Name                   180519 non-null  object \n",
      " 49  Product Price                  180519 non-null  float64\n",
      " 50  Product Status                 180519 non-null  int64  \n",
      " 51  shipping date (DateOrders)     180519 non-null  object \n",
      " 52  Shipping Mode                  180519 non-null  object \n",
      "dtypes: float64(15), int64(14), object(24)\n",
      "memory usage: 73.0+ MB\n"
     ]
    }
   ],
   "source": [
    "# Features data-type\n",
    "dataset.info()"
   ]
  },
  {
   "cell_type": "code",
   "execution_count": 11,
   "metadata": {},
   "outputs": [],
   "source": [
    "# Adding first name and last name together to create new column\n",
    "\n",
    "dataset['Customer Full Name'] = dataset['Customer Fname'].astype(str)+dataset['Customer Lname'].astype(str)"
   ]
  },
  {
   "cell_type": "code",
   "execution_count": 12,
   "metadata": {},
   "outputs": [
    {
     "data": {
      "text/plain": [
       "(180519, 42)"
      ]
     },
     "execution_count": 12,
     "metadata": {},
     "output_type": "execute_result"
    }
   ],
   "source": [
    "dataset=dataset.drop(['Customer Email','Product Status','Customer Password','Customer Street','Customer Fname','Customer Lname',\n",
    "           'Latitude','Longitude','Product Description','Product Image','Order Zipcode','shipping date (DateOrders)'],axis=1)\n",
    "dataset.shape"
   ]
  },
  {
   "cell_type": "code",
   "execution_count": 13,
   "metadata": {},
   "outputs": [
    {
     "data": {
      "text/plain": [
       "(180519, 44)"
      ]
     },
     "execution_count": 13,
     "metadata": {},
     "output_type": "execute_result"
    }
   ],
   "source": [
    "dataset['fraud'] = np.where(dataset['Order Status'] == 'SUSPECTED_FRAUD', 1, 0)\n",
    "dataset['late_delivery']=np.where(dataset['Delivery Status'] == 'Late delivery', 1, 0)\n",
    "dataset.shape"
   ]
  },
  {
   "cell_type": "code",
   "execution_count": 14,
   "metadata": {},
   "outputs": [
    {
     "data": {
      "text/plain": [
       "(180519, 40)"
      ]
     },
     "execution_count": 14,
     "metadata": {},
     "output_type": "execute_result"
    }
   ],
   "source": [
    "#Dropping columns with repeated values\n",
    "\n",
    "dataset.drop(['Delivery Status','Late_delivery_risk','Order Status','order date (DateOrders)'], axis=1, inplace=True)\n",
    "dataset.shape"
   ]
  },
  {
   "cell_type": "code",
   "execution_count": 15,
   "metadata": {},
   "outputs": [
    {
     "data": {
      "text/html": [
       "<div>\n",
       "<style scoped>\n",
       "    .dataframe tbody tr th:only-of-type {\n",
       "        vertical-align: middle;\n",
       "    }\n",
       "\n",
       "    .dataframe tbody tr th {\n",
       "        vertical-align: top;\n",
       "    }\n",
       "\n",
       "    .dataframe thead th {\n",
       "        text-align: right;\n",
       "    }\n",
       "</style>\n",
       "<table border=\"1\" class=\"dataframe\">\n",
       "  <thead>\n",
       "    <tr style=\"text-align: right;\">\n",
       "      <th></th>\n",
       "      <th>count</th>\n",
       "      <th>mean</th>\n",
       "      <th>std</th>\n",
       "      <th>min</th>\n",
       "      <th>25%</th>\n",
       "      <th>50%</th>\n",
       "      <th>75%</th>\n",
       "      <th>max</th>\n",
       "    </tr>\n",
       "  </thead>\n",
       "  <tbody>\n",
       "    <tr>\n",
       "      <th>Days for shipping (real)</th>\n",
       "      <td>180519.0</td>\n",
       "      <td>3.497654</td>\n",
       "      <td>1.623722</td>\n",
       "      <td>0.00000</td>\n",
       "      <td>2.000000</td>\n",
       "      <td>3.000000</td>\n",
       "      <td>5.000000</td>\n",
       "      <td>6.000000</td>\n",
       "    </tr>\n",
       "    <tr>\n",
       "      <th>Days for shipment (scheduled)</th>\n",
       "      <td>180519.0</td>\n",
       "      <td>2.931847</td>\n",
       "      <td>1.374449</td>\n",
       "      <td>0.00000</td>\n",
       "      <td>2.000000</td>\n",
       "      <td>4.000000</td>\n",
       "      <td>4.000000</td>\n",
       "      <td>4.000000</td>\n",
       "    </tr>\n",
       "    <tr>\n",
       "      <th>Benefit per order</th>\n",
       "      <td>180519.0</td>\n",
       "      <td>21.974989</td>\n",
       "      <td>104.433526</td>\n",
       "      <td>-4274.97998</td>\n",
       "      <td>7.000000</td>\n",
       "      <td>31.520000</td>\n",
       "      <td>64.800003</td>\n",
       "      <td>911.799988</td>\n",
       "    </tr>\n",
       "    <tr>\n",
       "      <th>Sales per customer</th>\n",
       "      <td>180519.0</td>\n",
       "      <td>183.107609</td>\n",
       "      <td>120.043670</td>\n",
       "      <td>7.49000</td>\n",
       "      <td>104.379997</td>\n",
       "      <td>163.990005</td>\n",
       "      <td>247.399994</td>\n",
       "      <td>1939.989990</td>\n",
       "    </tr>\n",
       "    <tr>\n",
       "      <th>Category Id</th>\n",
       "      <td>180519.0</td>\n",
       "      <td>31.851451</td>\n",
       "      <td>15.640064</td>\n",
       "      <td>2.00000</td>\n",
       "      <td>18.000000</td>\n",
       "      <td>29.000000</td>\n",
       "      <td>45.000000</td>\n",
       "      <td>76.000000</td>\n",
       "    </tr>\n",
       "    <tr>\n",
       "      <th>Customer Id</th>\n",
       "      <td>180519.0</td>\n",
       "      <td>6691.379495</td>\n",
       "      <td>4162.918106</td>\n",
       "      <td>1.00000</td>\n",
       "      <td>3258.500000</td>\n",
       "      <td>6457.000000</td>\n",
       "      <td>9779.000000</td>\n",
       "      <td>20757.000000</td>\n",
       "    </tr>\n",
       "    <tr>\n",
       "      <th>Customer Zipcode</th>\n",
       "      <td>180516.0</td>\n",
       "      <td>35921.126914</td>\n",
       "      <td>37542.461122</td>\n",
       "      <td>603.00000</td>\n",
       "      <td>725.000000</td>\n",
       "      <td>19380.000000</td>\n",
       "      <td>78207.000000</td>\n",
       "      <td>99205.000000</td>\n",
       "    </tr>\n",
       "    <tr>\n",
       "      <th>Department Id</th>\n",
       "      <td>180519.0</td>\n",
       "      <td>5.443460</td>\n",
       "      <td>1.629246</td>\n",
       "      <td>2.00000</td>\n",
       "      <td>4.000000</td>\n",
       "      <td>5.000000</td>\n",
       "      <td>7.000000</td>\n",
       "      <td>12.000000</td>\n",
       "    </tr>\n",
       "    <tr>\n",
       "      <th>Order Customer Id</th>\n",
       "      <td>180519.0</td>\n",
       "      <td>6691.379495</td>\n",
       "      <td>4162.918106</td>\n",
       "      <td>1.00000</td>\n",
       "      <td>3258.500000</td>\n",
       "      <td>6457.000000</td>\n",
       "      <td>9779.000000</td>\n",
       "      <td>20757.000000</td>\n",
       "    </tr>\n",
       "    <tr>\n",
       "      <th>Order Id</th>\n",
       "      <td>180519.0</td>\n",
       "      <td>36221.894903</td>\n",
       "      <td>21045.379569</td>\n",
       "      <td>1.00000</td>\n",
       "      <td>18057.000000</td>\n",
       "      <td>36140.000000</td>\n",
       "      <td>54144.000000</td>\n",
       "      <td>77204.000000</td>\n",
       "    </tr>\n",
       "    <tr>\n",
       "      <th>Order Item Cardprod Id</th>\n",
       "      <td>180519.0</td>\n",
       "      <td>692.509764</td>\n",
       "      <td>336.446807</td>\n",
       "      <td>19.00000</td>\n",
       "      <td>403.000000</td>\n",
       "      <td>627.000000</td>\n",
       "      <td>1004.000000</td>\n",
       "      <td>1363.000000</td>\n",
       "    </tr>\n",
       "    <tr>\n",
       "      <th>Order Item Discount</th>\n",
       "      <td>180519.0</td>\n",
       "      <td>20.664741</td>\n",
       "      <td>21.800901</td>\n",
       "      <td>0.00000</td>\n",
       "      <td>5.400000</td>\n",
       "      <td>14.000000</td>\n",
       "      <td>29.990000</td>\n",
       "      <td>500.000000</td>\n",
       "    </tr>\n",
       "    <tr>\n",
       "      <th>Order Item Discount Rate</th>\n",
       "      <td>180519.0</td>\n",
       "      <td>0.101668</td>\n",
       "      <td>0.070415</td>\n",
       "      <td>0.00000</td>\n",
       "      <td>0.040000</td>\n",
       "      <td>0.100000</td>\n",
       "      <td>0.160000</td>\n",
       "      <td>0.250000</td>\n",
       "    </tr>\n",
       "    <tr>\n",
       "      <th>Order Item Id</th>\n",
       "      <td>180519.0</td>\n",
       "      <td>90260.000000</td>\n",
       "      <td>52111.490959</td>\n",
       "      <td>1.00000</td>\n",
       "      <td>45130.500000</td>\n",
       "      <td>90260.000000</td>\n",
       "      <td>135389.500000</td>\n",
       "      <td>180519.000000</td>\n",
       "    </tr>\n",
       "    <tr>\n",
       "      <th>Order Item Product Price</th>\n",
       "      <td>180519.0</td>\n",
       "      <td>141.232550</td>\n",
       "      <td>139.732492</td>\n",
       "      <td>9.99000</td>\n",
       "      <td>50.000000</td>\n",
       "      <td>59.990002</td>\n",
       "      <td>199.990005</td>\n",
       "      <td>1999.989990</td>\n",
       "    </tr>\n",
       "    <tr>\n",
       "      <th>Order Item Profit Ratio</th>\n",
       "      <td>180519.0</td>\n",
       "      <td>0.120647</td>\n",
       "      <td>0.466796</td>\n",
       "      <td>-2.75000</td>\n",
       "      <td>0.080000</td>\n",
       "      <td>0.270000</td>\n",
       "      <td>0.360000</td>\n",
       "      <td>0.500000</td>\n",
       "    </tr>\n",
       "    <tr>\n",
       "      <th>Order Item Quantity</th>\n",
       "      <td>180519.0</td>\n",
       "      <td>2.127638</td>\n",
       "      <td>1.453451</td>\n",
       "      <td>1.00000</td>\n",
       "      <td>1.000000</td>\n",
       "      <td>1.000000</td>\n",
       "      <td>3.000000</td>\n",
       "      <td>5.000000</td>\n",
       "    </tr>\n",
       "    <tr>\n",
       "      <th>Sales</th>\n",
       "      <td>180519.0</td>\n",
       "      <td>203.772096</td>\n",
       "      <td>132.273077</td>\n",
       "      <td>9.99000</td>\n",
       "      <td>119.980003</td>\n",
       "      <td>199.919998</td>\n",
       "      <td>299.950012</td>\n",
       "      <td>1999.989990</td>\n",
       "    </tr>\n",
       "    <tr>\n",
       "      <th>Order Item Total</th>\n",
       "      <td>180519.0</td>\n",
       "      <td>183.107609</td>\n",
       "      <td>120.043670</td>\n",
       "      <td>7.49000</td>\n",
       "      <td>104.379997</td>\n",
       "      <td>163.990005</td>\n",
       "      <td>247.399994</td>\n",
       "      <td>1939.989990</td>\n",
       "    </tr>\n",
       "    <tr>\n",
       "      <th>Order Profit Per Order</th>\n",
       "      <td>180519.0</td>\n",
       "      <td>21.974989</td>\n",
       "      <td>104.433526</td>\n",
       "      <td>-4274.97998</td>\n",
       "      <td>7.000000</td>\n",
       "      <td>31.520000</td>\n",
       "      <td>64.800003</td>\n",
       "      <td>911.799988</td>\n",
       "    </tr>\n",
       "    <tr>\n",
       "      <th>Product Card Id</th>\n",
       "      <td>180519.0</td>\n",
       "      <td>692.509764</td>\n",
       "      <td>336.446807</td>\n",
       "      <td>19.00000</td>\n",
       "      <td>403.000000</td>\n",
       "      <td>627.000000</td>\n",
       "      <td>1004.000000</td>\n",
       "      <td>1363.000000</td>\n",
       "    </tr>\n",
       "    <tr>\n",
       "      <th>Product Category Id</th>\n",
       "      <td>180519.0</td>\n",
       "      <td>31.851451</td>\n",
       "      <td>15.640064</td>\n",
       "      <td>2.00000</td>\n",
       "      <td>18.000000</td>\n",
       "      <td>29.000000</td>\n",
       "      <td>45.000000</td>\n",
       "      <td>76.000000</td>\n",
       "    </tr>\n",
       "    <tr>\n",
       "      <th>Product Price</th>\n",
       "      <td>180519.0</td>\n",
       "      <td>141.232550</td>\n",
       "      <td>139.732492</td>\n",
       "      <td>9.99000</td>\n",
       "      <td>50.000000</td>\n",
       "      <td>59.990002</td>\n",
       "      <td>199.990005</td>\n",
       "      <td>1999.989990</td>\n",
       "    </tr>\n",
       "    <tr>\n",
       "      <th>fraud</th>\n",
       "      <td>180519.0</td>\n",
       "      <td>0.022502</td>\n",
       "      <td>0.148309</td>\n",
       "      <td>0.00000</td>\n",
       "      <td>0.000000</td>\n",
       "      <td>0.000000</td>\n",
       "      <td>0.000000</td>\n",
       "      <td>1.000000</td>\n",
       "    </tr>\n",
       "    <tr>\n",
       "      <th>late_delivery</th>\n",
       "      <td>180519.0</td>\n",
       "      <td>0.548291</td>\n",
       "      <td>0.497664</td>\n",
       "      <td>0.00000</td>\n",
       "      <td>0.000000</td>\n",
       "      <td>1.000000</td>\n",
       "      <td>1.000000</td>\n",
       "      <td>1.000000</td>\n",
       "    </tr>\n",
       "  </tbody>\n",
       "</table>\n",
       "</div>"
      ],
      "text/plain": [
       "                                  count          mean           std  \\\n",
       "Days for shipping (real)       180519.0      3.497654      1.623722   \n",
       "Days for shipment (scheduled)  180519.0      2.931847      1.374449   \n",
       "Benefit per order              180519.0     21.974989    104.433526   \n",
       "Sales per customer             180519.0    183.107609    120.043670   \n",
       "Category Id                    180519.0     31.851451     15.640064   \n",
       "Customer Id                    180519.0   6691.379495   4162.918106   \n",
       "Customer Zipcode               180516.0  35921.126914  37542.461122   \n",
       "Department Id                  180519.0      5.443460      1.629246   \n",
       "Order Customer Id              180519.0   6691.379495   4162.918106   \n",
       "Order Id                       180519.0  36221.894903  21045.379569   \n",
       "Order Item Cardprod Id         180519.0    692.509764    336.446807   \n",
       "Order Item Discount            180519.0     20.664741     21.800901   \n",
       "Order Item Discount Rate       180519.0      0.101668      0.070415   \n",
       "Order Item Id                  180519.0  90260.000000  52111.490959   \n",
       "Order Item Product Price       180519.0    141.232550    139.732492   \n",
       "Order Item Profit Ratio        180519.0      0.120647      0.466796   \n",
       "Order Item Quantity            180519.0      2.127638      1.453451   \n",
       "Sales                          180519.0    203.772096    132.273077   \n",
       "Order Item Total               180519.0    183.107609    120.043670   \n",
       "Order Profit Per Order         180519.0     21.974989    104.433526   \n",
       "Product Card Id                180519.0    692.509764    336.446807   \n",
       "Product Category Id            180519.0     31.851451     15.640064   \n",
       "Product Price                  180519.0    141.232550    139.732492   \n",
       "fraud                          180519.0      0.022502      0.148309   \n",
       "late_delivery                  180519.0      0.548291      0.497664   \n",
       "\n",
       "                                      min           25%           50%  \\\n",
       "Days for shipping (real)          0.00000      2.000000      3.000000   \n",
       "Days for shipment (scheduled)     0.00000      2.000000      4.000000   \n",
       "Benefit per order             -4274.97998      7.000000     31.520000   \n",
       "Sales per customer                7.49000    104.379997    163.990005   \n",
       "Category Id                       2.00000     18.000000     29.000000   \n",
       "Customer Id                       1.00000   3258.500000   6457.000000   \n",
       "Customer Zipcode                603.00000    725.000000  19380.000000   \n",
       "Department Id                     2.00000      4.000000      5.000000   \n",
       "Order Customer Id                 1.00000   3258.500000   6457.000000   \n",
       "Order Id                          1.00000  18057.000000  36140.000000   \n",
       "Order Item Cardprod Id           19.00000    403.000000    627.000000   \n",
       "Order Item Discount               0.00000      5.400000     14.000000   \n",
       "Order Item Discount Rate          0.00000      0.040000      0.100000   \n",
       "Order Item Id                     1.00000  45130.500000  90260.000000   \n",
       "Order Item Product Price          9.99000     50.000000     59.990002   \n",
       "Order Item Profit Ratio          -2.75000      0.080000      0.270000   \n",
       "Order Item Quantity               1.00000      1.000000      1.000000   \n",
       "Sales                             9.99000    119.980003    199.919998   \n",
       "Order Item Total                  7.49000    104.379997    163.990005   \n",
       "Order Profit Per Order        -4274.97998      7.000000     31.520000   \n",
       "Product Card Id                  19.00000    403.000000    627.000000   \n",
       "Product Category Id               2.00000     18.000000     29.000000   \n",
       "Product Price                     9.99000     50.000000     59.990002   \n",
       "fraud                             0.00000      0.000000      0.000000   \n",
       "late_delivery                     0.00000      0.000000      1.000000   \n",
       "\n",
       "                                         75%            max  \n",
       "Days for shipping (real)            5.000000       6.000000  \n",
       "Days for shipment (scheduled)       4.000000       4.000000  \n",
       "Benefit per order                  64.800003     911.799988  \n",
       "Sales per customer                247.399994    1939.989990  \n",
       "Category Id                        45.000000      76.000000  \n",
       "Customer Id                      9779.000000   20757.000000  \n",
       "Customer Zipcode                78207.000000   99205.000000  \n",
       "Department Id                       7.000000      12.000000  \n",
       "Order Customer Id                9779.000000   20757.000000  \n",
       "Order Id                        54144.000000   77204.000000  \n",
       "Order Item Cardprod Id           1004.000000    1363.000000  \n",
       "Order Item Discount                29.990000     500.000000  \n",
       "Order Item Discount Rate            0.160000       0.250000  \n",
       "Order Item Id                  135389.500000  180519.000000  \n",
       "Order Item Product Price          199.990005    1999.989990  \n",
       "Order Item Profit Ratio             0.360000       0.500000  \n",
       "Order Item Quantity                 3.000000       5.000000  \n",
       "Sales                             299.950012    1999.989990  \n",
       "Order Item Total                  247.399994    1939.989990  \n",
       "Order Profit Per Order             64.800003     911.799988  \n",
       "Product Card Id                  1004.000000    1363.000000  \n",
       "Product Category Id                45.000000      76.000000  \n",
       "Product Price                     199.990005    1999.989990  \n",
       "fraud                               0.000000       1.000000  \n",
       "late_delivery                       1.000000       1.000000  "
      ]
     },
     "execution_count": 15,
     "metadata": {},
     "output_type": "execute_result"
    }
   ],
   "source": [
    "# Statistical summary\n",
    "dataset.describe().T"
   ]
  },
  {
   "cell_type": "code",
   "execution_count": 16,
   "metadata": {},
   "outputs": [
    {
     "data": {
      "text/plain": [
       "Type                             0\n",
       "Days for shipping (real)         0\n",
       "Days for shipment (scheduled)    0\n",
       "Benefit per order                0\n",
       "Sales per customer               0\n",
       "Category Id                      0\n",
       "Category Name                    0\n",
       "Customer City                    0\n",
       "Customer Country                 0\n",
       "Customer Id                      0\n",
       "Customer Segment                 0\n",
       "Customer State                   0\n",
       "Customer Zipcode                 3\n",
       "Department Id                    0\n",
       "Department Name                  0\n",
       "Market                           0\n",
       "Order City                       0\n",
       "Order Country                    0\n",
       "Order Customer Id                0\n",
       "Order Id                         0\n",
       "Order Item Cardprod Id           0\n",
       "Order Item Discount              0\n",
       "Order Item Discount Rate         0\n",
       "Order Item Id                    0\n",
       "Order Item Product Price         0\n",
       "Order Item Profit Ratio          0\n",
       "Order Item Quantity              0\n",
       "Sales                            0\n",
       "Order Item Total                 0\n",
       "Order Profit Per Order           0\n",
       "Order Region                     0\n",
       "Order State                      0\n",
       "Product Card Id                  0\n",
       "Product Category Id              0\n",
       "Product Name                     0\n",
       "Product Price                    0\n",
       "Shipping Mode                    0\n",
       "Customer Full Name               0\n",
       "fraud                            0\n",
       "late_delivery                    0\n",
       "dtype: int64"
      ]
     },
     "execution_count": 16,
     "metadata": {},
     "output_type": "execute_result"
    }
   ],
   "source": [
    "# Count of null values\n",
    "dataset.isnull().sum()"
   ]
  },
  {
   "cell_type": "code",
   "execution_count": null,
   "metadata": {},
   "outputs": [],
   "source": []
  },
  {
   "cell_type": "markdown",
   "metadata": {},
   "source": [
    "# Step:3 Encoding Categorical Data"
   ]
  },
  {
   "cell_type": "markdown",
   "metadata": {},
   "source": [
    "Categorical data refers to variables that comprise label values rather than numerical values. The number of potential values is often restricted to a fixed set. However, values such as \"YES\" and \"NO\" cannot be incorporated into the mathematical equations used in the model. Therefore, we need to encode these variables into numeric values. To accomplish this, we can import the LabelEncoder class from the sklearn.preprocessing library."
   ]
  },
  {
   "cell_type": "code",
   "execution_count": 17,
   "metadata": {},
   "outputs": [],
   "source": [
    "from sklearn.preprocessing import LabelEncoder"
   ]
  },
  {
   "cell_type": "code",
   "execution_count": 18,
   "metadata": {},
   "outputs": [],
   "source": [
    "# creating instance of labelencoder\n",
    "le = LabelEncoder()"
   ]
  },
  {
   "cell_type": "code",
   "execution_count": 19,
   "metadata": {},
   "outputs": [
    {
     "data": {
      "text/html": [
       "<div>\n",
       "<style scoped>\n",
       "    .dataframe tbody tr th:only-of-type {\n",
       "        vertical-align: middle;\n",
       "    }\n",
       "\n",
       "    .dataframe tbody tr th {\n",
       "        vertical-align: top;\n",
       "    }\n",
       "\n",
       "    .dataframe thead th {\n",
       "        text-align: right;\n",
       "    }\n",
       "</style>\n",
       "<table border=\"1\" class=\"dataframe\">\n",
       "  <thead>\n",
       "    <tr style=\"text-align: right;\">\n",
       "      <th></th>\n",
       "      <th>Type</th>\n",
       "      <th>Days for shipping (real)</th>\n",
       "      <th>Days for shipment (scheduled)</th>\n",
       "      <th>Benefit per order</th>\n",
       "      <th>Sales per customer</th>\n",
       "      <th>Category Id</th>\n",
       "      <th>Category Name</th>\n",
       "      <th>Customer City</th>\n",
       "      <th>Customer Country</th>\n",
       "      <th>Customer Id</th>\n",
       "      <th>...</th>\n",
       "      <th>Order Region</th>\n",
       "      <th>Order State</th>\n",
       "      <th>Product Card Id</th>\n",
       "      <th>Product Category Id</th>\n",
       "      <th>Product Name</th>\n",
       "      <th>Product Price</th>\n",
       "      <th>Shipping Mode</th>\n",
       "      <th>Customer Full Name</th>\n",
       "      <th>fraud</th>\n",
       "      <th>late_delivery</th>\n",
       "    </tr>\n",
       "  </thead>\n",
       "  <tbody>\n",
       "    <tr>\n",
       "      <th>0</th>\n",
       "      <td>1</td>\n",
       "      <td>3</td>\n",
       "      <td>4</td>\n",
       "      <td>91.250000</td>\n",
       "      <td>314.640015</td>\n",
       "      <td>73</td>\n",
       "      <td>40</td>\n",
       "      <td>66</td>\n",
       "      <td>1</td>\n",
       "      <td>20755</td>\n",
       "      <td>...</td>\n",
       "      <td>15</td>\n",
       "      <td>475</td>\n",
       "      <td>1360</td>\n",
       "      <td>73</td>\n",
       "      <td>78</td>\n",
       "      <td>327.75</td>\n",
       "      <td>3</td>\n",
       "      <td>1876</td>\n",
       "      <td>0</td>\n",
       "      <td>0</td>\n",
       "    </tr>\n",
       "    <tr>\n",
       "      <th>1</th>\n",
       "      <td>3</td>\n",
       "      <td>5</td>\n",
       "      <td>4</td>\n",
       "      <td>-249.089996</td>\n",
       "      <td>311.359985</td>\n",
       "      <td>73</td>\n",
       "      <td>40</td>\n",
       "      <td>66</td>\n",
       "      <td>1</td>\n",
       "      <td>19492</td>\n",
       "      <td>...</td>\n",
       "      <td>13</td>\n",
       "      <td>841</td>\n",
       "      <td>1360</td>\n",
       "      <td>73</td>\n",
       "      <td>78</td>\n",
       "      <td>327.75</td>\n",
       "      <td>3</td>\n",
       "      <td>5378</td>\n",
       "      <td>0</td>\n",
       "      <td>1</td>\n",
       "    </tr>\n",
       "    <tr>\n",
       "      <th>2</th>\n",
       "      <td>0</td>\n",
       "      <td>4</td>\n",
       "      <td>4</td>\n",
       "      <td>-247.779999</td>\n",
       "      <td>309.720001</td>\n",
       "      <td>73</td>\n",
       "      <td>40</td>\n",
       "      <td>452</td>\n",
       "      <td>0</td>\n",
       "      <td>19491</td>\n",
       "      <td>...</td>\n",
       "      <td>13</td>\n",
       "      <td>841</td>\n",
       "      <td>1360</td>\n",
       "      <td>73</td>\n",
       "      <td>78</td>\n",
       "      <td>327.75</td>\n",
       "      <td>3</td>\n",
       "      <td>4429</td>\n",
       "      <td>0</td>\n",
       "      <td>0</td>\n",
       "    </tr>\n",
       "    <tr>\n",
       "      <th>3</th>\n",
       "      <td>1</td>\n",
       "      <td>3</td>\n",
       "      <td>4</td>\n",
       "      <td>22.860001</td>\n",
       "      <td>304.809998</td>\n",
       "      <td>73</td>\n",
       "      <td>40</td>\n",
       "      <td>285</td>\n",
       "      <td>0</td>\n",
       "      <td>19490</td>\n",
       "      <td>...</td>\n",
       "      <td>11</td>\n",
       "      <td>835</td>\n",
       "      <td>1360</td>\n",
       "      <td>73</td>\n",
       "      <td>78</td>\n",
       "      <td>327.75</td>\n",
       "      <td>3</td>\n",
       "      <td>12929</td>\n",
       "      <td>0</td>\n",
       "      <td>0</td>\n",
       "    </tr>\n",
       "    <tr>\n",
       "      <th>4</th>\n",
       "      <td>2</td>\n",
       "      <td>2</td>\n",
       "      <td>4</td>\n",
       "      <td>134.210007</td>\n",
       "      <td>298.250000</td>\n",
       "      <td>73</td>\n",
       "      <td>40</td>\n",
       "      <td>66</td>\n",
       "      <td>1</td>\n",
       "      <td>19489</td>\n",
       "      <td>...</td>\n",
       "      <td>11</td>\n",
       "      <td>835</td>\n",
       "      <td>1360</td>\n",
       "      <td>73</td>\n",
       "      <td>78</td>\n",
       "      <td>327.75</td>\n",
       "      <td>3</td>\n",
       "      <td>10638</td>\n",
       "      <td>0</td>\n",
       "      <td>0</td>\n",
       "    </tr>\n",
       "  </tbody>\n",
       "</table>\n",
       "<p>5 rows × 40 columns</p>\n",
       "</div>"
      ],
      "text/plain": [
       "   Type  Days for shipping (real)  Days for shipment (scheduled)  \\\n",
       "0     1                         3                              4   \n",
       "1     3                         5                              4   \n",
       "2     0                         4                              4   \n",
       "3     1                         3                              4   \n",
       "4     2                         2                              4   \n",
       "\n",
       "   Benefit per order  Sales per customer  Category Id  Category Name  \\\n",
       "0          91.250000          314.640015           73             40   \n",
       "1        -249.089996          311.359985           73             40   \n",
       "2        -247.779999          309.720001           73             40   \n",
       "3          22.860001          304.809998           73             40   \n",
       "4         134.210007          298.250000           73             40   \n",
       "\n",
       "   Customer City  Customer Country  Customer Id  ...  Order Region  \\\n",
       "0             66                 1        20755  ...            15   \n",
       "1             66                 1        19492  ...            13   \n",
       "2            452                 0        19491  ...            13   \n",
       "3            285                 0        19490  ...            11   \n",
       "4             66                 1        19489  ...            11   \n",
       "\n",
       "   Order State  Product Card Id  Product Category Id  Product Name  \\\n",
       "0          475             1360                   73            78   \n",
       "1          841             1360                   73            78   \n",
       "2          841             1360                   73            78   \n",
       "3          835             1360                   73            78   \n",
       "4          835             1360                   73            78   \n",
       "\n",
       "   Product Price  Shipping Mode  Customer Full Name  fraud  late_delivery  \n",
       "0         327.75              3                1876      0              0  \n",
       "1         327.75              3                5378      0              1  \n",
       "2         327.75              3                4429      0              0  \n",
       "3         327.75              3               12929      0              0  \n",
       "4         327.75              3               10638      0              0  \n",
       "\n",
       "[5 rows x 40 columns]"
      ]
     },
     "execution_count": 19,
     "metadata": {},
     "output_type": "execute_result"
    }
   ],
   "source": [
    "# Assigning numerical values and storing in another column\n",
    "\n",
    "dataset['Customer Country']  = le.fit_transform(dataset['Customer Country'])\n",
    "dataset['Market']            = le.fit_transform(dataset['Market'])\n",
    "dataset['Type']              = le.fit_transform(dataset['Type'])\n",
    "dataset['Product Name']      = le.fit_transform(dataset['Product Name'])\n",
    "dataset['Customer Segment']  = le.fit_transform(dataset['Customer Segment'])\n",
    "dataset['Customer State']    = le.fit_transform(dataset['Customer State'])\n",
    "dataset['Order Region']      = le.fit_transform(dataset['Order Region'])\n",
    "dataset['Order City']        = le.fit_transform(dataset['Order City'])\n",
    "dataset['Category Name']     = le.fit_transform(dataset['Category Name'])\n",
    "dataset['Customer City']     = le.fit_transform(dataset['Customer City'])\n",
    "dataset['Department Name']   = le.fit_transform(dataset['Department Name'])\n",
    "dataset['Order State']       = le.fit_transform(dataset['Order State'])\n",
    "dataset['Shipping Mode']     = le.fit_transform(dataset['Shipping Mode'])\n",
    "dataset['Order Country']     = le.fit_transform(dataset['Order Country'])\n",
    "dataset['Customer Full Name']= le.fit_transform(dataset['Customer Full Name'])\n",
    "\n",
    "dataset.head(5)"
   ]
  },
  {
   "cell_type": "markdown",
   "metadata": {},
   "source": [
    "# Step:4 Handling the Missing Data"
   ]
  },
  {
   "cell_type": "markdown",
   "metadata": {},
   "source": [
    "Data is often heterogeneous in nature, and may contain missing values due to a variety of reasons. To prevent such missing values from impacting the performance of our machine learning model, we can replace them with the mean or median of the entire column. This can be accomplished using the Imputer class of the sklearn.preprocessing library."
   ]
  },
  {
   "cell_type": "code",
   "execution_count": 20,
   "metadata": {},
   "outputs": [],
   "source": [
    "dataset_new = dataset"
   ]
  },
  {
   "cell_type": "code",
   "execution_count": 21,
   "metadata": {},
   "outputs": [],
   "source": [
    "dataset_new=dataset_new.fillna(0)"
   ]
  },
  {
   "cell_type": "code",
   "execution_count": 22,
   "metadata": {},
   "outputs": [
    {
     "data": {
      "text/plain": [
       "Type                             0\n",
       "Days for shipping (real)         0\n",
       "Days for shipment (scheduled)    0\n",
       "Benefit per order                0\n",
       "Sales per customer               0\n",
       "Category Id                      0\n",
       "Category Name                    0\n",
       "Customer City                    0\n",
       "Customer Country                 0\n",
       "Customer Id                      0\n",
       "Customer Segment                 0\n",
       "Customer State                   0\n",
       "Customer Zipcode                 0\n",
       "Department Id                    0\n",
       "Department Name                  0\n",
       "Market                           0\n",
       "Order City                       0\n",
       "Order Country                    0\n",
       "Order Customer Id                0\n",
       "Order Id                         0\n",
       "Order Item Cardprod Id           0\n",
       "Order Item Discount              0\n",
       "Order Item Discount Rate         0\n",
       "Order Item Id                    0\n",
       "Order Item Product Price         0\n",
       "Order Item Profit Ratio          0\n",
       "Order Item Quantity              0\n",
       "Sales                            0\n",
       "Order Item Total                 0\n",
       "Order Profit Per Order           0\n",
       "Order Region                     0\n",
       "Order State                      0\n",
       "Product Card Id                  0\n",
       "Product Category Id              0\n",
       "Product Name                     0\n",
       "Product Price                    0\n",
       "Shipping Mode                    0\n",
       "Customer Full Name               0\n",
       "fraud                            0\n",
       "late_delivery                    0\n",
       "dtype: int64"
      ]
     },
     "execution_count": 22,
     "metadata": {},
     "output_type": "execute_result"
    }
   ],
   "source": [
    "# Count of NaN\n",
    "dataset_new.isnull().sum()"
   ]
  },
  {
   "cell_type": "code",
   "execution_count": 23,
   "metadata": {},
   "outputs": [
    {
     "data": {
      "text/html": [
       "<div>\n",
       "<style scoped>\n",
       "    .dataframe tbody tr th:only-of-type {\n",
       "        vertical-align: middle;\n",
       "    }\n",
       "\n",
       "    .dataframe tbody tr th {\n",
       "        vertical-align: top;\n",
       "    }\n",
       "\n",
       "    .dataframe thead th {\n",
       "        text-align: right;\n",
       "    }\n",
       "</style>\n",
       "<table border=\"1\" class=\"dataframe\">\n",
       "  <thead>\n",
       "    <tr style=\"text-align: right;\">\n",
       "      <th></th>\n",
       "      <th>count</th>\n",
       "      <th>mean</th>\n",
       "      <th>std</th>\n",
       "      <th>min</th>\n",
       "      <th>25%</th>\n",
       "      <th>50%</th>\n",
       "      <th>75%</th>\n",
       "      <th>max</th>\n",
       "    </tr>\n",
       "  </thead>\n",
       "  <tbody>\n",
       "    <tr>\n",
       "      <th>Type</th>\n",
       "      <td>180519.0</td>\n",
       "      <td>1.675137</td>\n",
       "      <td>0.994647</td>\n",
       "      <td>0.00000</td>\n",
       "      <td>1.000000</td>\n",
       "      <td>2.000000</td>\n",
       "      <td>3.000000</td>\n",
       "      <td>3.000000</td>\n",
       "    </tr>\n",
       "    <tr>\n",
       "      <th>Days for shipping (real)</th>\n",
       "      <td>180519.0</td>\n",
       "      <td>3.497654</td>\n",
       "      <td>1.623722</td>\n",
       "      <td>0.00000</td>\n",
       "      <td>2.000000</td>\n",
       "      <td>3.000000</td>\n",
       "      <td>5.000000</td>\n",
       "      <td>6.000000</td>\n",
       "    </tr>\n",
       "    <tr>\n",
       "      <th>Days for shipment (scheduled)</th>\n",
       "      <td>180519.0</td>\n",
       "      <td>2.931847</td>\n",
       "      <td>1.374449</td>\n",
       "      <td>0.00000</td>\n",
       "      <td>2.000000</td>\n",
       "      <td>4.000000</td>\n",
       "      <td>4.000000</td>\n",
       "      <td>4.000000</td>\n",
       "    </tr>\n",
       "    <tr>\n",
       "      <th>Benefit per order</th>\n",
       "      <td>180519.0</td>\n",
       "      <td>21.974989</td>\n",
       "      <td>104.433526</td>\n",
       "      <td>-4274.97998</td>\n",
       "      <td>7.000000</td>\n",
       "      <td>31.520000</td>\n",
       "      <td>64.800003</td>\n",
       "      <td>911.799988</td>\n",
       "    </tr>\n",
       "    <tr>\n",
       "      <th>Sales per customer</th>\n",
       "      <td>180519.0</td>\n",
       "      <td>183.107609</td>\n",
       "      <td>120.043670</td>\n",
       "      <td>7.49000</td>\n",
       "      <td>104.379997</td>\n",
       "      <td>163.990005</td>\n",
       "      <td>247.399994</td>\n",
       "      <td>1939.989990</td>\n",
       "    </tr>\n",
       "    <tr>\n",
       "      <th>Category Id</th>\n",
       "      <td>180519.0</td>\n",
       "      <td>31.851451</td>\n",
       "      <td>15.640064</td>\n",
       "      <td>2.00000</td>\n",
       "      <td>18.000000</td>\n",
       "      <td>29.000000</td>\n",
       "      <td>45.000000</td>\n",
       "      <td>76.000000</td>\n",
       "    </tr>\n",
       "    <tr>\n",
       "      <th>Category Name</th>\n",
       "      <td>180519.0</td>\n",
       "      <td>26.782405</td>\n",
       "      <td>14.204351</td>\n",
       "      <td>0.00000</td>\n",
       "      <td>12.000000</td>\n",
       "      <td>30.000000</td>\n",
       "      <td>38.000000</td>\n",
       "      <td>49.000000</td>\n",
       "    </tr>\n",
       "    <tr>\n",
       "      <th>Customer City</th>\n",
       "      <td>180519.0</td>\n",
       "      <td>193.986633</td>\n",
       "      <td>160.930467</td>\n",
       "      <td>0.00000</td>\n",
       "      <td>66.000000</td>\n",
       "      <td>98.000000</td>\n",
       "      <td>324.000000</td>\n",
       "      <td>562.000000</td>\n",
       "    </tr>\n",
       "    <tr>\n",
       "      <th>Customer Country</th>\n",
       "      <td>180519.0</td>\n",
       "      <td>0.384297</td>\n",
       "      <td>0.486430</td>\n",
       "      <td>0.00000</td>\n",
       "      <td>0.000000</td>\n",
       "      <td>0.000000</td>\n",
       "      <td>1.000000</td>\n",
       "      <td>1.000000</td>\n",
       "    </tr>\n",
       "    <tr>\n",
       "      <th>Customer Id</th>\n",
       "      <td>180519.0</td>\n",
       "      <td>6691.379495</td>\n",
       "      <td>4162.918106</td>\n",
       "      <td>1.00000</td>\n",
       "      <td>3258.500000</td>\n",
       "      <td>6457.000000</td>\n",
       "      <td>9779.000000</td>\n",
       "      <td>20757.000000</td>\n",
       "    </tr>\n",
       "    <tr>\n",
       "      <th>Customer Segment</th>\n",
       "      <td>180519.0</td>\n",
       "      <td>0.660545</td>\n",
       "      <td>0.762408</td>\n",
       "      <td>0.00000</td>\n",
       "      <td>0.000000</td>\n",
       "      <td>0.000000</td>\n",
       "      <td>1.000000</td>\n",
       "      <td>2.000000</td>\n",
       "    </tr>\n",
       "    <tr>\n",
       "      <th>Customer State</th>\n",
       "      <td>180519.0</td>\n",
       "      <td>26.152150</td>\n",
       "      <td>13.050626</td>\n",
       "      <td>0.00000</td>\n",
       "      <td>12.000000</td>\n",
       "      <td>34.000000</td>\n",
       "      <td>36.000000</td>\n",
       "      <td>45.000000</td>\n",
       "    </tr>\n",
       "    <tr>\n",
       "      <th>Customer Zipcode</th>\n",
       "      <td>180519.0</td>\n",
       "      <td>35920.529950</td>\n",
       "      <td>37542.434755</td>\n",
       "      <td>0.00000</td>\n",
       "      <td>725.000000</td>\n",
       "      <td>19380.000000</td>\n",
       "      <td>78207.000000</td>\n",
       "      <td>99205.000000</td>\n",
       "    </tr>\n",
       "    <tr>\n",
       "      <th>Department Id</th>\n",
       "      <td>180519.0</td>\n",
       "      <td>5.443460</td>\n",
       "      <td>1.629246</td>\n",
       "      <td>2.00000</td>\n",
       "      <td>4.000000</td>\n",
       "      <td>5.000000</td>\n",
       "      <td>7.000000</td>\n",
       "      <td>12.000000</td>\n",
       "    </tr>\n",
       "    <tr>\n",
       "      <th>Department Name</th>\n",
       "      <td>180519.0</td>\n",
       "      <td>3.246201</td>\n",
       "      <td>2.502709</td>\n",
       "      <td>0.00000</td>\n",
       "      <td>0.000000</td>\n",
       "      <td>3.000000</td>\n",
       "      <td>6.000000</td>\n",
       "      <td>10.000000</td>\n",
       "    </tr>\n",
       "    <tr>\n",
       "      <th>Market</th>\n",
       "      <td>180519.0</td>\n",
       "      <td>2.107346</td>\n",
       "      <td>1.150840</td>\n",
       "      <td>0.00000</td>\n",
       "      <td>1.000000</td>\n",
       "      <td>2.000000</td>\n",
       "      <td>3.000000</td>\n",
       "      <td>4.000000</td>\n",
       "    </tr>\n",
       "    <tr>\n",
       "      <th>Order City</th>\n",
       "      <td>180519.0</td>\n",
       "      <td>1847.113822</td>\n",
       "      <td>1004.501986</td>\n",
       "      <td>0.00000</td>\n",
       "      <td>940.000000</td>\n",
       "      <td>1946.000000</td>\n",
       "      <td>2776.000000</td>\n",
       "      <td>3596.000000</td>\n",
       "    </tr>\n",
       "    <tr>\n",
       "      <th>Order Country</th>\n",
       "      <td>180519.0</td>\n",
       "      <td>65.145625</td>\n",
       "      <td>41.852842</td>\n",
       "      <td>0.00000</td>\n",
       "      <td>38.000000</td>\n",
       "      <td>53.000000</td>\n",
       "      <td>102.000000</td>\n",
       "      <td>163.000000</td>\n",
       "    </tr>\n",
       "    <tr>\n",
       "      <th>Order Customer Id</th>\n",
       "      <td>180519.0</td>\n",
       "      <td>6691.379495</td>\n",
       "      <td>4162.918106</td>\n",
       "      <td>1.00000</td>\n",
       "      <td>3258.500000</td>\n",
       "      <td>6457.000000</td>\n",
       "      <td>9779.000000</td>\n",
       "      <td>20757.000000</td>\n",
       "    </tr>\n",
       "    <tr>\n",
       "      <th>Order Id</th>\n",
       "      <td>180519.0</td>\n",
       "      <td>36221.894903</td>\n",
       "      <td>21045.379569</td>\n",
       "      <td>1.00000</td>\n",
       "      <td>18057.000000</td>\n",
       "      <td>36140.000000</td>\n",
       "      <td>54144.000000</td>\n",
       "      <td>77204.000000</td>\n",
       "    </tr>\n",
       "    <tr>\n",
       "      <th>Order Item Cardprod Id</th>\n",
       "      <td>180519.0</td>\n",
       "      <td>692.509764</td>\n",
       "      <td>336.446807</td>\n",
       "      <td>19.00000</td>\n",
       "      <td>403.000000</td>\n",
       "      <td>627.000000</td>\n",
       "      <td>1004.000000</td>\n",
       "      <td>1363.000000</td>\n",
       "    </tr>\n",
       "    <tr>\n",
       "      <th>Order Item Discount</th>\n",
       "      <td>180519.0</td>\n",
       "      <td>20.664741</td>\n",
       "      <td>21.800901</td>\n",
       "      <td>0.00000</td>\n",
       "      <td>5.400000</td>\n",
       "      <td>14.000000</td>\n",
       "      <td>29.990000</td>\n",
       "      <td>500.000000</td>\n",
       "    </tr>\n",
       "    <tr>\n",
       "      <th>Order Item Discount Rate</th>\n",
       "      <td>180519.0</td>\n",
       "      <td>0.101668</td>\n",
       "      <td>0.070415</td>\n",
       "      <td>0.00000</td>\n",
       "      <td>0.040000</td>\n",
       "      <td>0.100000</td>\n",
       "      <td>0.160000</td>\n",
       "      <td>0.250000</td>\n",
       "    </tr>\n",
       "    <tr>\n",
       "      <th>Order Item Id</th>\n",
       "      <td>180519.0</td>\n",
       "      <td>90260.000000</td>\n",
       "      <td>52111.490959</td>\n",
       "      <td>1.00000</td>\n",
       "      <td>45130.500000</td>\n",
       "      <td>90260.000000</td>\n",
       "      <td>135389.500000</td>\n",
       "      <td>180519.000000</td>\n",
       "    </tr>\n",
       "    <tr>\n",
       "      <th>Order Item Product Price</th>\n",
       "      <td>180519.0</td>\n",
       "      <td>141.232550</td>\n",
       "      <td>139.732492</td>\n",
       "      <td>9.99000</td>\n",
       "      <td>50.000000</td>\n",
       "      <td>59.990002</td>\n",
       "      <td>199.990005</td>\n",
       "      <td>1999.989990</td>\n",
       "    </tr>\n",
       "    <tr>\n",
       "      <th>Order Item Profit Ratio</th>\n",
       "      <td>180519.0</td>\n",
       "      <td>0.120647</td>\n",
       "      <td>0.466796</td>\n",
       "      <td>-2.75000</td>\n",
       "      <td>0.080000</td>\n",
       "      <td>0.270000</td>\n",
       "      <td>0.360000</td>\n",
       "      <td>0.500000</td>\n",
       "    </tr>\n",
       "    <tr>\n",
       "      <th>Order Item Quantity</th>\n",
       "      <td>180519.0</td>\n",
       "      <td>2.127638</td>\n",
       "      <td>1.453451</td>\n",
       "      <td>1.00000</td>\n",
       "      <td>1.000000</td>\n",
       "      <td>1.000000</td>\n",
       "      <td>3.000000</td>\n",
       "      <td>5.000000</td>\n",
       "    </tr>\n",
       "    <tr>\n",
       "      <th>Sales</th>\n",
       "      <td>180519.0</td>\n",
       "      <td>203.772096</td>\n",
       "      <td>132.273077</td>\n",
       "      <td>9.99000</td>\n",
       "      <td>119.980003</td>\n",
       "      <td>199.919998</td>\n",
       "      <td>299.950012</td>\n",
       "      <td>1999.989990</td>\n",
       "    </tr>\n",
       "    <tr>\n",
       "      <th>Order Item Total</th>\n",
       "      <td>180519.0</td>\n",
       "      <td>183.107609</td>\n",
       "      <td>120.043670</td>\n",
       "      <td>7.49000</td>\n",
       "      <td>104.379997</td>\n",
       "      <td>163.990005</td>\n",
       "      <td>247.399994</td>\n",
       "      <td>1939.989990</td>\n",
       "    </tr>\n",
       "    <tr>\n",
       "      <th>Order Profit Per Order</th>\n",
       "      <td>180519.0</td>\n",
       "      <td>21.974989</td>\n",
       "      <td>104.433526</td>\n",
       "      <td>-4274.97998</td>\n",
       "      <td>7.000000</td>\n",
       "      <td>31.520000</td>\n",
       "      <td>64.800003</td>\n",
       "      <td>911.799988</td>\n",
       "    </tr>\n",
       "    <tr>\n",
       "      <th>Order Region</th>\n",
       "      <td>180519.0</td>\n",
       "      <td>12.128978</td>\n",
       "      <td>6.983246</td>\n",
       "      <td>0.00000</td>\n",
       "      <td>6.000000</td>\n",
       "      <td>12.000000</td>\n",
       "      <td>18.000000</td>\n",
       "      <td>22.000000</td>\n",
       "    </tr>\n",
       "    <tr>\n",
       "      <th>Order State</th>\n",
       "      <td>180519.0</td>\n",
       "      <td>550.964004</td>\n",
       "      <td>307.294706</td>\n",
       "      <td>0.00000</td>\n",
       "      <td>292.000000</td>\n",
       "      <td>527.000000</td>\n",
       "      <td>835.000000</td>\n",
       "      <td>1088.000000</td>\n",
       "    </tr>\n",
       "    <tr>\n",
       "      <th>Product Card Id</th>\n",
       "      <td>180519.0</td>\n",
       "      <td>692.509764</td>\n",
       "      <td>336.446807</td>\n",
       "      <td>19.00000</td>\n",
       "      <td>403.000000</td>\n",
       "      <td>627.000000</td>\n",
       "      <td>1004.000000</td>\n",
       "      <td>1363.000000</td>\n",
       "    </tr>\n",
       "    <tr>\n",
       "      <th>Product Category Id</th>\n",
       "      <td>180519.0</td>\n",
       "      <td>31.851451</td>\n",
       "      <td>15.640064</td>\n",
       "      <td>2.00000</td>\n",
       "      <td>18.000000</td>\n",
       "      <td>29.000000</td>\n",
       "      <td>45.000000</td>\n",
       "      <td>76.000000</td>\n",
       "    </tr>\n",
       "    <tr>\n",
       "      <th>Product Name</th>\n",
       "      <td>180519.0</td>\n",
       "      <td>58.509049</td>\n",
       "      <td>23.484701</td>\n",
       "      <td>0.00000</td>\n",
       "      <td>56.000000</td>\n",
       "      <td>61.000000</td>\n",
       "      <td>71.000000</td>\n",
       "      <td>117.000000</td>\n",
       "    </tr>\n",
       "    <tr>\n",
       "      <th>Product Price</th>\n",
       "      <td>180519.0</td>\n",
       "      <td>141.232550</td>\n",
       "      <td>139.732492</td>\n",
       "      <td>9.99000</td>\n",
       "      <td>50.000000</td>\n",
       "      <td>59.990002</td>\n",
       "      <td>199.990005</td>\n",
       "      <td>1999.989990</td>\n",
       "    </tr>\n",
       "    <tr>\n",
       "      <th>Shipping Mode</th>\n",
       "      <td>180519.0</td>\n",
       "      <td>2.234806</td>\n",
       "      <td>1.100920</td>\n",
       "      <td>0.00000</td>\n",
       "      <td>2.000000</td>\n",
       "      <td>3.000000</td>\n",
       "      <td>3.000000</td>\n",
       "      <td>3.000000</td>\n",
       "    </tr>\n",
       "    <tr>\n",
       "      <th>Customer Full Name</th>\n",
       "      <td>180519.0</td>\n",
       "      <td>7640.967305</td>\n",
       "      <td>3448.725517</td>\n",
       "      <td>0.00000</td>\n",
       "      <td>5479.500000</td>\n",
       "      <td>8911.000000</td>\n",
       "      <td>9384.000000</td>\n",
       "      <td>14032.000000</td>\n",
       "    </tr>\n",
       "    <tr>\n",
       "      <th>fraud</th>\n",
       "      <td>180519.0</td>\n",
       "      <td>0.022502</td>\n",
       "      <td>0.148309</td>\n",
       "      <td>0.00000</td>\n",
       "      <td>0.000000</td>\n",
       "      <td>0.000000</td>\n",
       "      <td>0.000000</td>\n",
       "      <td>1.000000</td>\n",
       "    </tr>\n",
       "    <tr>\n",
       "      <th>late_delivery</th>\n",
       "      <td>180519.0</td>\n",
       "      <td>0.548291</td>\n",
       "      <td>0.497664</td>\n",
       "      <td>0.00000</td>\n",
       "      <td>0.000000</td>\n",
       "      <td>1.000000</td>\n",
       "      <td>1.000000</td>\n",
       "      <td>1.000000</td>\n",
       "    </tr>\n",
       "  </tbody>\n",
       "</table>\n",
       "</div>"
      ],
      "text/plain": [
       "                                  count          mean           std  \\\n",
       "Type                           180519.0      1.675137      0.994647   \n",
       "Days for shipping (real)       180519.0      3.497654      1.623722   \n",
       "Days for shipment (scheduled)  180519.0      2.931847      1.374449   \n",
       "Benefit per order              180519.0     21.974989    104.433526   \n",
       "Sales per customer             180519.0    183.107609    120.043670   \n",
       "Category Id                    180519.0     31.851451     15.640064   \n",
       "Category Name                  180519.0     26.782405     14.204351   \n",
       "Customer City                  180519.0    193.986633    160.930467   \n",
       "Customer Country               180519.0      0.384297      0.486430   \n",
       "Customer Id                    180519.0   6691.379495   4162.918106   \n",
       "Customer Segment               180519.0      0.660545      0.762408   \n",
       "Customer State                 180519.0     26.152150     13.050626   \n",
       "Customer Zipcode               180519.0  35920.529950  37542.434755   \n",
       "Department Id                  180519.0      5.443460      1.629246   \n",
       "Department Name                180519.0      3.246201      2.502709   \n",
       "Market                         180519.0      2.107346      1.150840   \n",
       "Order City                     180519.0   1847.113822   1004.501986   \n",
       "Order Country                  180519.0     65.145625     41.852842   \n",
       "Order Customer Id              180519.0   6691.379495   4162.918106   \n",
       "Order Id                       180519.0  36221.894903  21045.379569   \n",
       "Order Item Cardprod Id         180519.0    692.509764    336.446807   \n",
       "Order Item Discount            180519.0     20.664741     21.800901   \n",
       "Order Item Discount Rate       180519.0      0.101668      0.070415   \n",
       "Order Item Id                  180519.0  90260.000000  52111.490959   \n",
       "Order Item Product Price       180519.0    141.232550    139.732492   \n",
       "Order Item Profit Ratio        180519.0      0.120647      0.466796   \n",
       "Order Item Quantity            180519.0      2.127638      1.453451   \n",
       "Sales                          180519.0    203.772096    132.273077   \n",
       "Order Item Total               180519.0    183.107609    120.043670   \n",
       "Order Profit Per Order         180519.0     21.974989    104.433526   \n",
       "Order Region                   180519.0     12.128978      6.983246   \n",
       "Order State                    180519.0    550.964004    307.294706   \n",
       "Product Card Id                180519.0    692.509764    336.446807   \n",
       "Product Category Id            180519.0     31.851451     15.640064   \n",
       "Product Name                   180519.0     58.509049     23.484701   \n",
       "Product Price                  180519.0    141.232550    139.732492   \n",
       "Shipping Mode                  180519.0      2.234806      1.100920   \n",
       "Customer Full Name             180519.0   7640.967305   3448.725517   \n",
       "fraud                          180519.0      0.022502      0.148309   \n",
       "late_delivery                  180519.0      0.548291      0.497664   \n",
       "\n",
       "                                      min           25%           50%  \\\n",
       "Type                              0.00000      1.000000      2.000000   \n",
       "Days for shipping (real)          0.00000      2.000000      3.000000   \n",
       "Days for shipment (scheduled)     0.00000      2.000000      4.000000   \n",
       "Benefit per order             -4274.97998      7.000000     31.520000   \n",
       "Sales per customer                7.49000    104.379997    163.990005   \n",
       "Category Id                       2.00000     18.000000     29.000000   \n",
       "Category Name                     0.00000     12.000000     30.000000   \n",
       "Customer City                     0.00000     66.000000     98.000000   \n",
       "Customer Country                  0.00000      0.000000      0.000000   \n",
       "Customer Id                       1.00000   3258.500000   6457.000000   \n",
       "Customer Segment                  0.00000      0.000000      0.000000   \n",
       "Customer State                    0.00000     12.000000     34.000000   \n",
       "Customer Zipcode                  0.00000    725.000000  19380.000000   \n",
       "Department Id                     2.00000      4.000000      5.000000   \n",
       "Department Name                   0.00000      0.000000      3.000000   \n",
       "Market                            0.00000      1.000000      2.000000   \n",
       "Order City                        0.00000    940.000000   1946.000000   \n",
       "Order Country                     0.00000     38.000000     53.000000   \n",
       "Order Customer Id                 1.00000   3258.500000   6457.000000   \n",
       "Order Id                          1.00000  18057.000000  36140.000000   \n",
       "Order Item Cardprod Id           19.00000    403.000000    627.000000   \n",
       "Order Item Discount               0.00000      5.400000     14.000000   \n",
       "Order Item Discount Rate          0.00000      0.040000      0.100000   \n",
       "Order Item Id                     1.00000  45130.500000  90260.000000   \n",
       "Order Item Product Price          9.99000     50.000000     59.990002   \n",
       "Order Item Profit Ratio          -2.75000      0.080000      0.270000   \n",
       "Order Item Quantity               1.00000      1.000000      1.000000   \n",
       "Sales                             9.99000    119.980003    199.919998   \n",
       "Order Item Total                  7.49000    104.379997    163.990005   \n",
       "Order Profit Per Order        -4274.97998      7.000000     31.520000   \n",
       "Order Region                      0.00000      6.000000     12.000000   \n",
       "Order State                       0.00000    292.000000    527.000000   \n",
       "Product Card Id                  19.00000    403.000000    627.000000   \n",
       "Product Category Id               2.00000     18.000000     29.000000   \n",
       "Product Name                      0.00000     56.000000     61.000000   \n",
       "Product Price                     9.99000     50.000000     59.990002   \n",
       "Shipping Mode                     0.00000      2.000000      3.000000   \n",
       "Customer Full Name                0.00000   5479.500000   8911.000000   \n",
       "fraud                             0.00000      0.000000      0.000000   \n",
       "late_delivery                     0.00000      0.000000      1.000000   \n",
       "\n",
       "                                         75%            max  \n",
       "Type                                3.000000       3.000000  \n",
       "Days for shipping (real)            5.000000       6.000000  \n",
       "Days for shipment (scheduled)       4.000000       4.000000  \n",
       "Benefit per order                  64.800003     911.799988  \n",
       "Sales per customer                247.399994    1939.989990  \n",
       "Category Id                        45.000000      76.000000  \n",
       "Category Name                      38.000000      49.000000  \n",
       "Customer City                     324.000000     562.000000  \n",
       "Customer Country                    1.000000       1.000000  \n",
       "Customer Id                      9779.000000   20757.000000  \n",
       "Customer Segment                    1.000000       2.000000  \n",
       "Customer State                     36.000000      45.000000  \n",
       "Customer Zipcode                78207.000000   99205.000000  \n",
       "Department Id                       7.000000      12.000000  \n",
       "Department Name                     6.000000      10.000000  \n",
       "Market                              3.000000       4.000000  \n",
       "Order City                       2776.000000    3596.000000  \n",
       "Order Country                     102.000000     163.000000  \n",
       "Order Customer Id                9779.000000   20757.000000  \n",
       "Order Id                        54144.000000   77204.000000  \n",
       "Order Item Cardprod Id           1004.000000    1363.000000  \n",
       "Order Item Discount                29.990000     500.000000  \n",
       "Order Item Discount Rate            0.160000       0.250000  \n",
       "Order Item Id                  135389.500000  180519.000000  \n",
       "Order Item Product Price          199.990005    1999.989990  \n",
       "Order Item Profit Ratio             0.360000       0.500000  \n",
       "Order Item Quantity                 3.000000       5.000000  \n",
       "Sales                             299.950012    1999.989990  \n",
       "Order Item Total                  247.399994    1939.989990  \n",
       "Order Profit Per Order             64.800003     911.799988  \n",
       "Order Region                       18.000000      22.000000  \n",
       "Order State                       835.000000    1088.000000  \n",
       "Product Card Id                  1004.000000    1363.000000  \n",
       "Product Category Id                45.000000      76.000000  \n",
       "Product Name                       71.000000     117.000000  \n",
       "Product Price                     199.990005    1999.989990  \n",
       "Shipping Mode                       3.000000       3.000000  \n",
       "Customer Full Name               9384.000000   14032.000000  \n",
       "fraud                               0.000000       1.000000  \n",
       "late_delivery                       1.000000       1.000000  "
      ]
     },
     "execution_count": 23,
     "metadata": {},
     "output_type": "execute_result"
    }
   ],
   "source": [
    "# Statistical summary\n",
    "dataset_new.describe().T"
   ]
  },
  {
   "cell_type": "markdown",
   "metadata": {},
   "source": [
    "# Step:5 Feature Scaling"
   ]
  },
  {
   "cell_type": "markdown",
   "metadata": {},
   "source": [
    "\n",
    "In most machine learning algorithms, the Euclidean distance between two data points is a key factor in their calculations. However, issues can arise when features have highly variable magnitudes, units, and ranges. This is because high-magnitude features will carry more weight in distance calculations than low-magnitude features. To address this problem, we can perform feature standardization or Z-score normalization. This can be accomplished using the StandardScaler class from the sklearn.preprocessing library."
   ]
  },
  {
   "cell_type": "code",
   "execution_count": 24,
   "metadata": {},
   "outputs": [],
   "source": [
    "# Feature scaling using MinMaxScaler\n",
    "from sklearn.preprocessing import MinMaxScaler\n"
   ]
  },
  {
   "cell_type": "code",
   "execution_count": 25,
   "metadata": {},
   "outputs": [],
   "source": [
    "sc = MinMaxScaler(feature_range = (0, 1))\n",
    "dataset_scaled = sc.fit_transform(dataset_new)"
   ]
  },
  {
   "cell_type": "code",
   "execution_count": 26,
   "metadata": {},
   "outputs": [],
   "source": [
    "dataset_scaled = pd.DataFrame(dataset_scaled)"
   ]
  },
  {
   "cell_type": "code",
   "execution_count": 27,
   "metadata": {},
   "outputs": [],
   "source": [
    "\n",
    "X = dataset_new.iloc[:,0:38].values\n",
    "Y = dataset.late_delivery.values"
   ]
  },
  {
   "cell_type": "markdown",
   "metadata": {},
   "source": [
    "# Step:6 Splitting the dataset into testing set and training set"
   ]
  },
  {
   "cell_type": "markdown",
   "metadata": {},
   "source": [
    "To train and evaluate a machine learning model, we typically split the dataset into two partitions: a training set and a test set. The training set is used to train the model, while the test set is used to assess the performance of the trained model. This partition is often performed with an 80/20 split. To accomplish this, we can import the train_test_split() method from the sklearn.model_selection library."
   ]
  },
  {
   "cell_type": "code",
   "execution_count": 28,
   "metadata": {},
   "outputs": [],
   "source": [
    "# Splitting X and Y\n",
    "#Controls the shuffling applied to the data before applying the split\n",
    "from sklearn.model_selection import train_test_split\n",
    "X_train, X_test, Y_train, Y_test = train_test_split(X, Y, test_size = 0.20, random_state = 42, stratify = dataset['fraud'] )"
   ]
  },
  {
   "cell_type": "code",
   "execution_count": 29,
   "metadata": {},
   "outputs": [
    {
     "name": "stdout",
     "output_type": "stream",
     "text": [
      "X_train shape: (144415, 38)\n",
      "X_test shape: (36104, 38)\n",
      "Y_train shape: (144415,)\n",
      "Y_test shape: (36104,)\n"
     ]
    }
   ],
   "source": [
    "# Checking dimensions\n",
    "print(\"X_train shape:\", X_train.shape)\n",
    "print(\"X_test shape:\", X_test.shape)\n",
    "print(\"Y_train shape:\", Y_train.shape)\n",
    "print(\"Y_test shape:\", Y_test.shape)"
   ]
  },
  {
   "cell_type": "markdown",
   "metadata": {},
   "source": [
    "# Step:7 MACHINE LEARNING ALGORITHMS"
   ]
  },
  {
   "cell_type": "markdown",
   "metadata": {},
   "source": [
    "Scikit-learn is a powerful open-source Python library that offers a wide range of machine learning capabilities, including pre-processing, model selection, cross-validation, and visualization algorithms, all accessible through a unified interface.\n",
    "\n",
    "Key features of scikit-learn include:\n",
    "\n",
    "Simple and efficient tools for data mining and analysis\n",
    "A variety of classification, regression, and clustering algorithms, such as support vector machines, random forests, gradient boosting, k-means, and more   "
   ]
  },
  {
   "cell_type": "markdown",
   "metadata": {},
   "source": [
    "# Logistic Regression Algorithm"
   ]
  },
  {
   "cell_type": "code",
   "execution_count": 30,
   "metadata": {},
   "outputs": [
    {
     "data": {
      "text/plain": [
       "LogisticRegression(random_state=42)"
      ]
     },
     "execution_count": 30,
     "metadata": {},
     "output_type": "execute_result"
    }
   ],
   "source": [
    "# Logistic Regression Algorithm\n",
    "from sklearn.linear_model import LogisticRegression\n",
    "logreg = LogisticRegression(random_state = 42)\n",
    "logreg.fit(X_train, Y_train)\n"
   ]
  },
  {
   "cell_type": "markdown",
   "metadata": {},
   "source": [
    "# K nearest neighbors Algorithm"
   ]
  },
  {
   "cell_type": "code",
   "execution_count": 31,
   "metadata": {},
   "outputs": [
    {
     "data": {
      "text/plain": [
       "KNeighborsClassifier(n_neighbors=24)"
      ]
     },
     "execution_count": 31,
     "metadata": {},
     "output_type": "execute_result"
    }
   ],
   "source": [
    "# K nearest neighbors Algorithm\n",
    "from sklearn.neighbors import KNeighborsClassifier\n",
    "knn = KNeighborsClassifier(n_neighbors = 24, metric = 'minkowski', p = 2)\n",
    "knn.fit(X_train, Y_train)\n"
   ]
  },
  {
   "cell_type": "markdown",
   "metadata": {},
   "source": [
    "# Random forest Algorithm"
   ]
  },
  {
   "cell_type": "code",
   "execution_count": 32,
   "metadata": {},
   "outputs": [
    {
     "data": {
      "text/plain": [
       "RandomForestClassifier(criterion='entropy', n_estimators=11, random_state=42)"
      ]
     },
     "execution_count": 32,
     "metadata": {},
     "output_type": "execute_result"
    }
   ],
   "source": [
    "# Random forest Algorithm\n",
    "from sklearn.ensemble import RandomForestClassifier\n",
    "ranfor = RandomForestClassifier(n_estimators = 11, criterion = 'entropy', random_state = 42)\n",
    "ranfor.fit(X_train, Y_train)"
   ]
  },
  {
   "cell_type": "markdown",
   "metadata": {},
   "source": [
    "# Making predictions on test dataset"
   ]
  },
  {
   "cell_type": "code",
   "execution_count": 33,
   "metadata": {},
   "outputs": [],
   "source": [
    "# Making predictions on test dataset\n",
    "Y_pred_logreg = logreg.predict(X_test)\n",
    "Y_pred_knn = knn.predict(X_test)\n",
    "Y_pred_ranfor = ranfor.predict(X_test)\n"
   ]
  },
  {
   "cell_type": "markdown",
   "metadata": {},
   "source": [
    "# Step:8 Model Evaluation"
   ]
  },
  {
   "cell_type": "code",
   "execution_count": 34,
   "metadata": {},
   "outputs": [],
   "source": [
    "# Evaluating using accuracy_score metric\n",
    "from sklearn.metrics import accuracy_score"
   ]
  },
  {
   "cell_type": "code",
   "execution_count": 35,
   "metadata": {},
   "outputs": [],
   "source": [
    "accuracy_logreg = accuracy_score(Y_test, Y_pred_logreg)\n",
    "accuracy_knn = accuracy_score(Y_test, Y_pred_knn)\n",
    "accuracy_ranfor = accuracy_score(Y_test, Y_pred_ranfor)\n"
   ]
  },
  {
   "cell_type": "code",
   "execution_count": 36,
   "metadata": {},
   "outputs": [
    {
     "name": "stdout",
     "output_type": "stream",
     "text": [
      "Logistic Regression: 55.04930201639707\n",
      "K Nearest neighbors: 60.13461112342122\n",
      "Random Forest: 98.18025703523155\n"
     ]
    }
   ],
   "source": [
    "# Accuracy on test set\n",
    "print(\"Logistic Regression: \" + str(accuracy_logreg * 100))\n",
    "print(\"K Nearest neighbors: \" + str(accuracy_knn * 100))\n",
    "print(\"Random Forest: \" + str(accuracy_ranfor * 100))\n"
   ]
  },
  {
   "cell_type": "code",
   "execution_count": 37,
   "metadata": {},
   "outputs": [],
   "source": [
    "a=accuracy_logreg * 100\n",
    "b=accuracy_knn * 100\n",
    "e=accuracy_ranfor * 100\n"
   ]
  },
  {
   "cell_type": "code",
   "execution_count": 38,
   "metadata": {},
   "outputs": [
    {
     "name": "stdout",
     "output_type": "stream",
     "text": [
      "The accuracy score achieved using Logistic Regression is: 55.04930201639707 %\n",
      "The accuracy score achieved using K-Nearest Neighbors is: 60.13461112342122 %\n",
      "The accuracy score achieved using Random Forest is: 98.18025703523155 %\n"
     ]
    }
   ],
   "source": [
    "scores = [a,b,e]\n",
    "algorithms = [\"Logistic Regression\",\"K-Nearest Neighbors\",\"Random Forest\"]    \n",
    "\n",
    "for i in range(len(algorithms)):\n",
    "    print(\"The accuracy score achieved using \"+algorithms[i]+\" is: \"+str(scores[i])+\" %\")"
   ]
  },
  {
   "cell_type": "code",
   "execution_count": 39,
   "metadata": {},
   "outputs": [
    {
     "data": {
      "text/plain": [
       "<AxesSubplot:xlabel='Algorithms', ylabel='Accuracy score'>"
      ]
     },
     "execution_count": 39,
     "metadata": {},
     "output_type": "execute_result"
    },
    {
     "data": {
      "image/png": "[encoded data removed]",
      "text/plain": [
       "<Figure size 1000x600 with 1 Axes>"
      ]
     },
     "metadata": {},
     "output_type": "display_data"
    }
   ],
   "source": [
    "sns.set(rc={'figure.figsize':(10,6)})\n",
    "plt.xlabel(\"Algorithms\")\n",
    "plt.ylabel(\"Accuracy score\")\n",
    "\n",
    "sns.barplot(algorithms,scores)"
   ]
  },
  {
   "cell_type": "markdown",
   "metadata": {},
   "source": [
    "### Random Forest Evaluation"
   ]
  },
  {
   "cell_type": "code",
   "execution_count": 40,
   "metadata": {},
   "outputs": [
    {
     "name": "stdout",
     "output_type": "stream",
     "text": [
      "              precision    recall  f1-score   support\n",
      "\n",
      "           0       1.00      0.96      0.98     16229\n",
      "           1       0.97      1.00      0.98     19875\n",
      "\n",
      "    accuracy                           0.98     36104\n",
      "   macro avg       0.98      0.98      0.98     36104\n",
      "weighted avg       0.98      0.98      0.98     36104\n",
      "\n"
     ]
    }
   ],
   "source": [
    "# Classification report for Random Forest\n",
    "\n",
    "from sklearn.metrics import classification_report\n",
    "print(classification_report(Y_test, Y_pred_ranfor))"
   ]
  },
  {
   "cell_type": "code",
   "execution_count": 41,
   "metadata": {},
   "outputs": [
    {
     "data": {
      "text/plain": [
       "<AxesSubplot:>"
      ]
     },
     "execution_count": 41,
     "metadata": {},
     "output_type": "execute_result"
    },
    {
     "data": {
      "image/png": "[encoded data removed]",
      "text/plain": [
       "<Figure size 1000x600 with 1 Axes>"
      ]
     },
     "metadata": {},
     "output_type": "display_data"
    }
   ],
   "source": [
    "# confusion Matrix  for Random Forest\n",
    "\n",
    "from sklearn.metrics import confusion_matrix\n",
    "matrix_confusion = confusion_matrix(Y_test, Y_pred_ranfor)\n",
    "sns.heatmap(matrix_confusion, square=True, annot=True, cmap='Blues', cbar=False, fmt='g')"
   ]
  },
  {
   "cell_type": "markdown",
   "metadata": {},
   "source": [
    "### K Nearest Neighbour Evaluation"
   ]
  },
  {
   "cell_type": "code",
   "execution_count": 42,
   "metadata": {},
   "outputs": [
    {
     "name": "stdout",
     "output_type": "stream",
     "text": [
      "              precision    recall  f1-score   support\n",
      "\n",
      "           0       0.56      0.54      0.55     16229\n",
      "           1       0.63      0.65      0.64     19875\n",
      "\n",
      "    accuracy                           0.60     36104\n",
      "   macro avg       0.60      0.60      0.60     36104\n",
      "weighted avg       0.60      0.60      0.60     36104\n",
      "\n"
     ]
    }
   ],
   "source": [
    "# Classification report for K Nearest Neighbour\n",
    "\n",
    "from sklearn.metrics import classification_report\n",
    "print(classification_report(Y_test, Y_pred_knn))"
   ]
  },
  {
   "cell_type": "code",
   "execution_count": 43,
   "metadata": {},
   "outputs": [
    {
     "data": {
      "text/plain": [
       "<AxesSubplot:>"
      ]
     },
     "execution_count": 43,
     "metadata": {},
     "output_type": "execute_result"
    },
    {
     "data": {
      "image/png": "[encoded data removed]",
      "text/plain": [
       "<Figure size 1000x600 with 1 Axes>"
      ]
     },
     "metadata": {},
     "output_type": "display_data"
    }
   ],
   "source": [
    "# confusion Matrix  for K Nearest Neighbour\n",
    "\n",
    "from sklearn.metrics import confusion_matrix\n",
    "matrix_confusion = confusion_matrix(Y_test, Y_pred_knn)\n",
    "sns.heatmap(matrix_confusion, square=True, annot=True, cmap='Blues', cbar=False, fmt='g')"
   ]
  },
  {
   "cell_type": "markdown",
   "metadata": {},
   "source": [
    "### Logistic Regression Evaluation"
   ]
  },
  {
   "cell_type": "code",
   "execution_count": 44,
   "metadata": {},
   "outputs": [
    {
     "name": "stdout",
     "output_type": "stream",
     "text": [
      "              precision    recall  f1-score   support\n",
      "\n",
      "           0       0.00      0.00      0.00     16229\n",
      "           1       0.55      1.00      0.71     19875\n",
      "\n",
      "    accuracy                           0.55     36104\n",
      "   macro avg       0.28      0.50      0.36     36104\n",
      "weighted avg       0.30      0.55      0.39     36104\n",
      "\n"
     ]
    }
   ],
   "source": [
    "# Classification report for Logistic Regression\n",
    "\n",
    "from sklearn.metrics import classification_report\n",
    "print(classification_report(Y_test, Y_pred_logreg))"
   ]
  },
  {
   "cell_type": "code",
   "execution_count": 45,
   "metadata": {},
   "outputs": [
    {
     "data": {
      "text/plain": [
       "<AxesSubplot:>"
      ]
     },
     "execution_count": 45,
     "metadata": {},
     "output_type": "execute_result"
    },
    {
     "data": {
      "image/png": "[encoded data removed]",
      "text/plain": [
       "<Figure size 1000x600 with 1 Axes>"
      ]
     },
     "metadata": {},
     "output_type": "display_data"
    }
   ],
   "source": [
    "# confusion Matrix  for Logistic Regression\n",
    "\n",
    "from sklearn.metrics import confusion_matrix\n",
    "matrix_confusion = confusion_matrix(Y_test, Y_pred_logreg)\n",
    "sns.heatmap(matrix_confusion, square=True, annot=True, cmap='Blues', cbar=False, fmt='g')"
   ]
  },
  {
   "cell_type": "markdown",
   "metadata": {},
   "source": [
    "# Hybrid Classifier"
   ]
  },
  {
   "cell_type": "code",
   "execution_count": 47,
   "metadata": {},
   "outputs": [],
   "source": [
    "from sklearn.tree import DecisionTreeClassifier\n",
    "from sklearn.neural_network import MLPClassifier\n",
    "from sklearn.datasets import make_classification\n",
    "from sklearn.model_selection import train_test_split\n",
    "from sklearn.metrics import accuracy_score\n",
    "from sklearn.base import BaseEstimator, ClassifierMixin\n",
    "from sklearn.linear_model import LogisticRegression\n",
    "\n",
    "\n",
    "class HybridClassifier(BaseEstimator, ClassifierMixin):\n",
    "    def __init__(self, dt=None, mlp=None):\n",
    "        \n",
    "        self.dt = DecisionTreeClassifier() if dt is None else dt\n",
    "        self.mlp = MLPClassifier() if mlp is None else mlp\n",
    "        self.final_classifier = None\n",
    "\n",
    "    def fit(self, X, y):\n",
    "        \n",
    "        # Fit both models\n",
    "        self.mlp.fit(X, y)\n",
    "        self.dt.fit(X, y)\n",
    "\n",
    "        # Extract predictions from both models\n",
    "        dt_pred = self.dt.predict(X)\n",
    "        mlp_pred = self.mlp.predict(X)\n",
    "\n",
    "        # Concatenate the predictions\n",
    "        X_new = np.concatenate([dt_pred.reshape(-1, 1), mlp_pred.reshape(-1, 1)], axis=1)\n",
    "\n",
    "        # Train a final classifier\n",
    "        self.final_classifier = LogisticRegression().fit(X_new, y)\n",
    "        return self\n",
    "\n",
    "    def predict(self, X):\n",
    "        # Extract predictions from both models\n",
    "        dt_pred = self.dt.predict(X)\n",
    "        mlp_pred = self.mlp.predict(X)\n",
    "\n",
    "        # Concatenate the predictions\n",
    "        X_new = np.concatenate([dt_pred.reshape(-1, 1), mlp_pred.reshape(-1, 1)], axis=1)\n",
    "\n",
    "        # Make final predictions\n",
    "        return self.final_classifier.predict(X_new)\n"
   ]
  },
  {
   "cell_type": "code",
   "execution_count": 48,
   "metadata": {},
   "outputs": [
    {
     "data": {
      "text/plain": [
       "HybridClassifier(dt=DecisionTreeClassifier(), mlp=MLPClassifier())"
      ]
     },
     "execution_count": 48,
     "metadata": {},
     "output_type": "execute_result"
    }
   ],
   "source": [
    "# Split data into train and test sets\n",
    "X_train, X_test, y_train, y_test = train_test_split(X, Y, test_size=0.2)\n",
    "\n",
    "# Train the hybrid classifier\n",
    "hybrid = HybridClassifier()\n",
    "\n",
    "hybrid.fit(X_train, y_train)\n"
   ]
  },
  {
   "cell_type": "code",
   "execution_count": 49,
   "metadata": {},
   "outputs": [],
   "source": [
    "# Make predictions\n",
    "y_pred = hybrid.predict(X_test)"
   ]
  },
  {
   "cell_type": "code",
   "execution_count": 50,
   "metadata": {},
   "outputs": [
    {
     "name": "stdout",
     "output_type": "stream",
     "text": [
      "              precision    recall  f1-score   support\n",
      "\n",
      "           0       0.98      0.99      0.98     16425\n",
      "           1       0.99      0.99      0.99     19679\n",
      "\n",
      "    accuracy                           0.99     36104\n",
      "   macro avg       0.99      0.99      0.99     36104\n",
      "weighted avg       0.99      0.99      0.99     36104\n",
      "\n"
     ]
    }
   ],
   "source": [
    "# Classification report \n",
    "\n",
    "from sklearn.metrics import classification_report\n",
    "print(classification_report(y_test, y_pred))"
   ]
  },
  {
   "cell_type": "code",
   "execution_count": 51,
   "metadata": {},
   "outputs": [
    {
     "data": {
      "text/plain": [
       "<AxesSubplot:>"
      ]
     },
     "execution_count": 51,
     "metadata": {},
     "output_type": "execute_result"
    },
    {
     "data": {
      "image/png": "[encoded data removed]",
      "text/plain": [
       "<Figure size 1000x600 with 1 Axes>"
      ]
     },
     "metadata": {},
     "output_type": "display_data"
    }
   ],
   "source": [
    "\n",
    "from sklearn.metrics import confusion_matrix\n",
    "matrix_confusion = confusion_matrix(y_test, y_pred)\n",
    "sns.heatmap(matrix_confusion, square=True, annot=True, cmap='Blues', cbar=False, fmt='g')"
   ]
  },
  {
   "cell_type": "code",
   "execution_count": null,
   "metadata": {},
   "outputs": [],
   "source": []
  },
  {
   "cell_type": "code",
   "execution_count": null,
   "metadata": {},
   "outputs": [],
   "source": []
  }
 ],
 "metadata": {
  "kernelspec": {
   "display_name": "Python 3 (ipykernel)",
   "language": "python",
   "name": "python3"
  },
  "language_info": {
   "codemirror_mode": {
    "name": "ipython",
    "version": 3
   },
   "file_extension": ".py",
   "mimetype": "text/x-python",
   "name": "python",
   "nbconvert_exporter": "python",
   "pygments_lexer": "ipython3",
   "version": "3.9.13"
  },
  "toc": {
   "base_numbering": 1,
   "nav_menu": {},
   "number_sections": true,
   "sideBar": true,
   "skip_h1_title": false,
   "title_cell": "Table of Contents",
   "title_sidebar": "Contents",
   "toc_cell": false,
   "toc_position": {},
   "toc_section_display": true,
   "toc_window_display": false
  }
 },
 "nbformat": 4,
 "nbformat_minor": 2
}
